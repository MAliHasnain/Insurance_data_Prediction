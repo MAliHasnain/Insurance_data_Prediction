{
 "cells": [
  {
   "cell_type": "code",
   "execution_count": 1,
   "id": "36f7739d",
   "metadata": {},
   "outputs": [],
   "source": [
    "#importing libraries\n",
    "import numpy as np\n",
    "import pandas as pd\n",
    "import matplotlib as plt\n",
    "from sklearn.linear_model import LinearRegression\n",
    "from sklearn.metrics import mean_squared_error, mean_absolute_error, r2_score"
   ]
  },
  {
   "cell_type": "code",
   "execution_count": 2,
   "id": "8adab4da",
   "metadata": {},
   "outputs": [
    {
     "data": {
      "text/html": [
       "<div>\n",
       "<style scoped>\n",
       "    .dataframe tbody tr th:only-of-type {\n",
       "        vertical-align: middle;\n",
       "    }\n",
       "\n",
       "    .dataframe tbody tr th {\n",
       "        vertical-align: top;\n",
       "    }\n",
       "\n",
       "    .dataframe thead th {\n",
       "        text-align: right;\n",
       "    }\n",
       "</style>\n",
       "<table border=\"1\" class=\"dataframe\">\n",
       "  <thead>\n",
       "    <tr style=\"text-align: right;\">\n",
       "      <th></th>\n",
       "      <th>age</th>\n",
       "      <th>sex</th>\n",
       "      <th>bmi</th>\n",
       "      <th>children</th>\n",
       "      <th>smoker</th>\n",
       "      <th>region</th>\n",
       "      <th>medicalCost</th>\n",
       "    </tr>\n",
       "  </thead>\n",
       "  <tbody>\n",
       "    <tr>\n",
       "      <th>0</th>\n",
       "      <td>19</td>\n",
       "      <td>female</td>\n",
       "      <td>27.900</td>\n",
       "      <td>0</td>\n",
       "      <td>yes</td>\n",
       "      <td>southwest</td>\n",
       "      <td>16884.92400</td>\n",
       "    </tr>\n",
       "    <tr>\n",
       "      <th>1</th>\n",
       "      <td>18</td>\n",
       "      <td>male</td>\n",
       "      <td>33.770</td>\n",
       "      <td>1</td>\n",
       "      <td>no</td>\n",
       "      <td>southeast</td>\n",
       "      <td>1725.55230</td>\n",
       "    </tr>\n",
       "    <tr>\n",
       "      <th>2</th>\n",
       "      <td>28</td>\n",
       "      <td>male</td>\n",
       "      <td>33.000</td>\n",
       "      <td>3</td>\n",
       "      <td>no</td>\n",
       "      <td>southeast</td>\n",
       "      <td>4449.46200</td>\n",
       "    </tr>\n",
       "    <tr>\n",
       "      <th>3</th>\n",
       "      <td>33</td>\n",
       "      <td>male</td>\n",
       "      <td>22.705</td>\n",
       "      <td>0</td>\n",
       "      <td>no</td>\n",
       "      <td>northwest</td>\n",
       "      <td>21984.47061</td>\n",
       "    </tr>\n",
       "    <tr>\n",
       "      <th>4</th>\n",
       "      <td>32</td>\n",
       "      <td>male</td>\n",
       "      <td>28.880</td>\n",
       "      <td>0</td>\n",
       "      <td>no</td>\n",
       "      <td>northwest</td>\n",
       "      <td>3866.85520</td>\n",
       "    </tr>\n",
       "  </tbody>\n",
       "</table>\n",
       "</div>"
      ],
      "text/plain": [
       "   age     sex     bmi  children smoker     region  medicalCost\n",
       "0   19  female  27.900         0    yes  southwest  16884.92400\n",
       "1   18    male  33.770         1     no  southeast   1725.55230\n",
       "2   28    male  33.000         3     no  southeast   4449.46200\n",
       "3   33    male  22.705         0     no  northwest  21984.47061\n",
       "4   32    male  28.880         0     no  northwest   3866.85520"
      ]
     },
     "execution_count": 2,
     "metadata": {},
     "output_type": "execute_result"
    }
   ],
   "source": [
    "#loading dataset\n",
    "url = 'https://raw.githubusercontent.com/MAliHasnain/Insurance_data_Prediction/main/insurance.csv'\n",
    "df = pd.read_csv(url)\n",
    "df.head()"
   ]
  },
  {
   "cell_type": "code",
   "execution_count": 3,
   "id": "81a5e40e",
   "metadata": {},
   "outputs": [
    {
     "name": "stdout",
     "output_type": "stream",
     "text": [
      "<class 'pandas.core.frame.DataFrame'>\n",
      "RangeIndex: 1338 entries, 0 to 1337\n",
      "Data columns (total 7 columns):\n",
      " #   Column       Non-Null Count  Dtype  \n",
      "---  ------       --------------  -----  \n",
      " 0   age          1338 non-null   int64  \n",
      " 1   sex          1338 non-null   object \n",
      " 2   bmi          1338 non-null   float64\n",
      " 3   children     1338 non-null   int64  \n",
      " 4   smoker       1338 non-null   object \n",
      " 5   region       1338 non-null   object \n",
      " 6   medicalCost  1338 non-null   float64\n",
      "dtypes: float64(2), int64(2), object(3)\n",
      "memory usage: 73.3+ KB\n"
     ]
    }
   ],
   "source": [
    "#getting information of the data\n",
    "df.info()"
   ]
  },
  {
   "cell_type": "code",
   "execution_count": 4,
   "id": "5ab361df",
   "metadata": {},
   "outputs": [
    {
     "name": "stdout",
     "output_type": "stream",
     "text": [
      "age            0.299008\n",
      "sex            0.057292\n",
      "bmi            0.198341\n",
      "children       0.067998\n",
      "smoker         0.787251\n",
      "medicalCost    1.000000\n",
      "Name: medicalCost, dtype: float64\n"
     ]
    }
   ],
   "source": [
    "# Encoding categorical variables\n",
    "df['sex'] = df['sex'].map({'female': 0, 'male': 1})\n",
    "df['smoker'] = df['smoker'].map({'no': 0, 'yes': 1})\n",
    "df = pd.get_dummies(df, columns=['region'])\n",
    "\n",
    "# Calculating correlation coefficients\n",
    "correlation_coefficients = df[['age', 'sex', 'bmi', 'children', 'smoker', 'medicalCost']].corr()\n",
    "\n",
    "# Merging region correlations\n",
    "region_correlations = correlation_coefficients.filter(like='region_')\n",
    "merged_region_correlation = region_correlations.sum(axis=1)\n",
    "\n",
    "# Updating correlation coefficients\n",
    "correlation_coefficients['region'] = merged_region_correlation\n",
    "\n",
    "# Displaying correlation coefficients\n",
    "print(correlation_coefficients['medicalCost'])"
   ]
  },
  {
   "cell_type": "code",
   "execution_count": 5,
   "id": "1ec22de2",
   "metadata": {},
   "outputs": [
    {
     "data": {
      "text/plain": [
       "Index(['smoker', 'age', 'bmi'], dtype='object')"
      ]
     },
     "execution_count": 5,
     "metadata": {},
     "output_type": "execute_result"
    }
   ],
   "source": [
    "# Selecting the top three predictors\n",
    "top_predictors = correlation_coefficients['medicalCost'].abs().nlargest(4).index[1:]\n",
    "top_predictors"
   ]
  },
  {
   "cell_type": "code",
   "execution_count": 6,
   "id": "5e9bd269",
   "metadata": {},
   "outputs": [],
   "source": [
    "#Initialize linear regression model\n",
    "model1 = LinearRegression()\n",
    "model2 = LinearRegression()\n",
    "model3 = LinearRegression()\n",
    "\n",
    "# Fit the models\n",
    "model1.fit(df[top_predictors[0]].values.reshape(-1, 1), df['medicalCost'])\n",
    "model2.fit(df[top_predictors[1]].values.reshape(-1, 1), df['medicalCost'])\n",
    "model3.fit(df[top_predictors[2]].values.reshape(-1, 1), df['medicalCost'])\n",
    "\n",
    "# Make predictions for each model\n",
    "predictions1 = model1.predict(df[top_predictors[0]].values.reshape(-1, 1))\n",
    "predictions2 = model2.predict(df[top_predictors[1]].values.reshape(-1, 1))\n",
    "predictions3 = model3.predict(df[top_predictors[2]].values.reshape(-1, 1))"
   ]
  },
  {
   "cell_type": "code",
   "execution_count": 7,
   "id": "13607660",
   "metadata": {},
   "outputs": [
    {
     "name": "stdout",
     "output_type": "stream",
     "text": [
      "Performance metrics for model 1:\n",
      "MSE: 55720715.954185426\n",
      "MAE: 5662.089609343061\n",
      "R-squared: 0.6197648148218988\n",
      "\n",
      "Performance metrics for model 2:\n",
      "MSE: 133440978.61376347\n",
      "MAE: 9055.14962050455\n",
      "R-squared: 0.08940589967885804\n",
      "\n",
      "Performance metrics for model 3:\n",
      "MSE: 140777900.09850758\n",
      "MAE: 9172.351145507564\n",
      "R-squared: 0.03933913991786253\n"
     ]
    }
   ],
   "source": [
    "# Calculate performance metrics\n",
    "mse1 = mean_squared_error(df['medicalCost'], predictions1)\n",
    "mae1 = mean_absolute_error(df['medicalCost'], predictions1)\n",
    "r2_1 = r2_score(df['medicalCost'], predictions1)\n",
    "mse2 = mean_squared_error(df['medicalCost'], predictions2)\n",
    "mae2 = mean_absolute_error(df['medicalCost'], predictions2)\n",
    "r2_2 = r2_score(df['medicalCost'], predictions2)\n",
    "mse3 = mean_squared_error(df['medicalCost'], predictions3)\n",
    "mae3 = mean_absolute_error(df['medicalCost'], predictions3)\n",
    "r2_3 = r2_score(df['medicalCost'], predictions3)\n",
    "# Print performance metrics\n",
    "print(\"Performance metrics for model 1:\")\n",
    "print(\"MSE:\", mse1)\n",
    "print(\"MAE:\", mae1)\n",
    "print(\"R-squared:\", r2_1)\n",
    "print()\n",
    "print(\"Performance metrics for model 2:\")\n",
    "print(\"MSE:\", mse2)\n",
    "print(\"MAE:\", mae2)\n",
    "print(\"R-squared:\", r2_2)\n",
    "print()\n",
    "print(\"Performance metrics for model 3:\")\n",
    "print(\"MSE:\", mse3)\n",
    "print(\"MAE:\", mae3)\n",
    "print(\"R-squared:\", r2_3)"
   ]
  },
  {
   "cell_type": "code",
   "execution_count": 8,
   "id": "736a9cd0",
   "metadata": {},
   "outputs": [
    {
     "name": "stdout",
     "output_type": "stream",
     "text": [
      "Performance metrics for Model 1:\n",
      "MSE: 37005395.750507504\n",
      "MAE: 4216.775692234115\n",
      "R-squared: 0.7474771588119513\n"
     ]
    }
   ],
   "source": [
    "# Initializing and predicting fit Model 1:\n",
    "X_model1 = df[top_predictors].values\n",
    "y_model1 = df['medicalCost'].values\n",
    "model1 = LinearRegression()\n",
    "model1.fit(X_model1, y_model1)\n",
    "predictions_model1 = model1.predict(X_model1)\n",
    "\n",
    "#Calculating performance metrics for Model 1:\n",
    "mse_model1 = mean_squared_error(y_model1, predictions_model1)\n",
    "mae_model1 = mean_absolute_error(y_model1, predictions_model1)\n",
    "r2_model1 = r2_score(y_model1, predictions_model1)\n",
    "\n",
    "#Printing Performance metrics\n",
    "print(\"Performance metrics for Model 1:\")\n",
    "print(\"MSE:\", mse_model1)\n",
    "print(\"MAE:\", mae_model1)\n",
    "print(\"R-squared:\", r2_model1)"
   ]
  },
  {
   "cell_type": "code",
   "execution_count": 10,
   "id": "ba8b3d11",
   "metadata": {},
   "outputs": [
    {
     "name": "stdout",
     "output_type": "stream",
     "text": [
      "Performance metrics for Model 2:\n",
      "MSE: 36501893.00741544\n",
      "MAE: 4170.886894163586\n",
      "R-squared: 0.7509130345985207\n"
     ]
    }
   ],
   "source": [
    "# Initializing and predicting fit Model 2:\n",
    "X_model2 = df.drop(columns='medicalCost').values\n",
    "y_model2 = df['medicalCost'].values\n",
    "model2 = LinearRegression()\n",
    "model2.fit(X_model2, y_model2)\n",
    "predictions_model2 = model2.predict(X_model2)\n",
    "\n",
    "##Calculating performance metrics for Model 2:\n",
    "mse_model2 = mean_squared_error(y_model2, predictions_model2)\n",
    "mae_model2 = mean_absolute_error(y_model2, predictions_model2)\n",
    "r2_model2 = r2_score(y_model2, predictions_model2)\n",
    "\n",
    "#Printing Performance metrics\n",
    "print(\"Performance metrics for Model 2:\")\n",
    "print(\"MSE:\", mse_model2)\n",
    "print(\"MAE:\", mae_model2)\n",
    "print(\"R-squared:\", r2_model2)"
   ]
  },
  {
   "cell_type": "code",
   "execution_count": null,
   "id": "0465139a",
   "metadata": {},
   "outputs": [],
   "source": []
  }
 ],
 "metadata": {
  "kernelspec": {
   "display_name": "Python 3 (ipykernel)",
   "language": "python",
   "name": "python3"
  },
  "language_info": {
   "codemirror_mode": {
    "name": "ipython",
    "version": 3
   },
   "file_extension": ".py",
   "mimetype": "text/x-python",
   "name": "python",
   "nbconvert_exporter": "python",
   "pygments_lexer": "ipython3",
   "version": "3.9.12"
  }
 },
 "nbformat": 4,
 "nbformat_minor": 5
}
